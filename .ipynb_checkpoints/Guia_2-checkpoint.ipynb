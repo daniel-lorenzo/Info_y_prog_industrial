{
 "cells": [
  {
   "cell_type": "markdown",
   "metadata": {},
   "source": [
    "# Unidad N°2 - Algebra de Boole\n",
    "**UNLZ - Facultad de Ingeniería**   \n",
    "**Informática y Programación Industrial**  \n",
    "**Alumno:** Daniel Antonio Lorenzo\n",
    "\n",
    "<a href=\"https://colab.research.google.com/github/daniel-lorenzo/Info_y_prog_industrial/blob/main/Guia_2.ipynb\"><img align=\"left\" src=\"https://colab.research.google.com/assets/colab-badge.svg\" alt=\"Open in Colab\" title=\"Open and Execute in Google Colaboratory\"></a>"
   ]
  },
  {
   "cell_type": "markdown",
   "metadata": {},
   "source": [
    "## Ejercicio 1\n",
    "Reconocimiento de expresiones en forma canónica. Indique, si lo estan, en que forma canónica están escritas las siguientes funciones lógicas."
   ]
  },
  {
   "cell_type": "markdown",
   "metadata": {},
   "source": [
    "**a) ítem** $$ f(A,B,C) = A \\overline{B} + \\overline{A} B + AB $$"
   ]
  },
  {
   "cell_type": "markdown",
   "metadata": {},
   "source": [
    "### Respuesta:\n",
    "Se encuentra en **forma normalizada**, porque en la suma de productos no todos los términos son canónicos."
   ]
  },
  {
   "cell_type": "markdown",
   "metadata": {},
   "source": [
    "**b) ítem** $$ f(A,B,C) = A \\; \\overline{B} \\; \\overline{C} $$"
   ]
  },
  {
   "cell_type": "markdown",
   "metadata": {},
   "source": [
    "### Respuesta:\n",
    "Los términos canónicos producto reciben el nombre se \"minitérminos\". Se llama término canónico porque aparecen todas las variables en su forma directa o complementada."
   ]
  },
  {
   "cell_type": "markdown",
   "metadata": {},
   "source": [
    "**c) ítem** $$ f(A,B,C) = ( \\overline{A} + B + C) \\, ( A + \\overline{B} + C ) \\, ( \\overline{ \\overline{A} + B + \\overline{C} } ) $$"
   ]
  },
  {
   "cell_type": "markdown",
   "metadata": {},
   "source": [
    "### Respuesta:\n",
    "Los términos canónicos suma reciben el nombre de \"maxitérminos\". Se llama término canónico porque aparecen todas las variables en su forma directa o complementada."
   ]
  },
  {
   "cell_type": "markdown",
   "metadata": {},
   "source": [
    "**d) ítem** $$ f(A,B,C) = A \\overline{B} C + \\overline{AB} C + A \\overline{BC} $$"
   ]
  },
  {
   "cell_type": "markdown",
   "metadata": {},
   "source": [
    "### Respuesta:\n",
    "Son todos términos canónicos producto \"minitérminos\"."
   ]
  },
  {
   "cell_type": "markdown",
   "metadata": {},
   "source": [
    "**e) ítem** $$ f(A,B) = ( A + \\overline{B} ) \\, ( \\overline{A} + B ) \\, ( \\overline{A} + \\overline{B} ) $$"
   ]
  },
  {
   "cell_type": "markdown",
   "metadata": {},
   "source": [
    "### Respuesta:\n",
    "Son todos términos canónicos suma \"maxitérminos\"."
   ]
  },
  {
   "cell_type": "markdown",
   "metadata": {},
   "source": [
    "---\n",
    "## Ejercicio 2\n",
    "Crear una función booleana que a partir de 4 señales digitales de entrada permita detectar cuando 3 o más de estas señales se encuentran activas.\n",
    "\n",
    "> Establezca tabla de verdad, y expresión canónica con minitérminos y maxitérminos."
   ]
  },
  {
   "cell_type": "markdown",
   "metadata": {},
   "source": [
    "## Solución\n",
    "|dec| | D | C | B | A | | S | Minitérminos | Maxitérminos |\n",
    "|---|-|---|---|---|---|-|---|--------------|--------------|\n",
    "| 0 | | 0 | 0 | 0 | 0 | | 0 |              | D+C+B+A      |\n",
    "| 1 | | 0 | 0 | 0 | 1 | | 0 |              | D+C+B+A'     |\n",
    "| 2 | | 0 | 0 | 1 | 0 | | 0 |              | D+C+B'+A     |\n",
    "| 3 | | 0 | 0 | 1 | 1 | | 0 |              | D+C+B'+A'    |\n",
    "| 4 | | 0 | 1 | 0 | 0 | | 0 |              | D+C'+B+A     |\n",
    "| 5 | | 0 | 1 | 0 | 1 | | 0 |              | D+C'+B+A'    |\n",
    "| 6 | | 0 | 1 | 1 | 0 | | 0 |              | D+C'+B'+A    |\n",
    "| 7 | | 0 | 1 | 1 | 1 | | 1 | D'CBA        |              |\n",
    "| 8 | | 1 | 0 | 0 | 0 | | 0 |              | D'+C+B+A     |\n",
    "| 9 | | 1 | 0 | 0 | 1 | | 0 |              | D'+C+B+A'    |\n",
    "|10 | | 1 | 0 | 1 | 0 | | 0 |              | D'+C+B'+A    |\n",
    "|11 | | 1 | 0 | 1 | 1 | | 1 | DC'BA        |              |\n",
    "|12 | | 1 | 1 | 0 | 0 | | 0 |              | D'+C'+B+A    |\n",
    "|13 | | 1 | 1 | 0 | 1 | | 1 | DCB'A        |              |\n",
    "|14 | | 1 | 1 | 1 | 0 | | 1 | DCBA'        |              |\n",
    "|15 | | 1 | 1 | 1 | 1 | | 1 | DCBA         |              |"
   ]
  },
  {
   "cell_type": "markdown",
   "metadata": {},
   "source": [
    "**Expresión canónica con minitérminos:**\n",
    "\n",
    "$$ S = f(D,C,B,A) = \\overline{D} CBA + D \\overline{C} BA + DC \\overline{B} A + DCB \\overline{A} + DCBA $$"
   ]
  },
  {
   "cell_type": "markdown",
   "metadata": {},
   "source": [
    "**Expresión canónica con maxitérminos:**\n",
    "$$ S = f(D,C,B,A) = (D+C+B+A) \\, (D+C+B+\\overline{A}) \\, (D+C+\\overline{B}+A)  \\ldots$$"
   ]
  },
  {
   "cell_type": "markdown",
   "metadata": {},
   "source": [
    "$$ \\ldots (D+C+\\overline{B}+\\overline{A}) \\, (D+\\overline{C}+B+A) \\, (D+\\overline{C}+B+\\overline{A}) \\ldots $$"
   ]
  },
  {
   "cell_type": "markdown",
   "metadata": {},
   "source": [
    "$$ \\ldots (D+\\overline{C}+\\overline{B}+A) \\, (\\overline{D}+C+B+A) \\, (\\overline{D}+C+B+\\overline{A}) \\ldots $$"
   ]
  },
  {
   "cell_type": "markdown",
   "metadata": {},
   "source": [
    "$$ \\ldots (\\overline{D}+C+\\overline{B}+A) $$"
   ]
  },
  {
   "cell_type": "markdown",
   "metadata": {},
   "source": [
    "En este ejercicio la forma canónica con minitérminos resulta mucho mas conveniente por ser mas breve."
   ]
  },
  {
   "cell_type": "markdown",
   "metadata": {},
   "source": [
    "---\n",
    "## Ejercicio 3\n",
    "Crear una función booleana que permita detectar cuando un número binario de tres bits es mayor o igual a $4_d$.\n",
    "\n",
    "> Estableszca tabla de verdad, y expresión canónica con minitérminos y maxitérminos."
   ]
  },
  {
   "cell_type": "markdown",
   "metadata": {},
   "source": [
    "### Solución\n",
    "|dec| | C | B | A | | S | Minitérminos | Maxitérminos |\n",
    "|---|-|---|---|---|-|---|--------------|--------------|\n",
    "| 0 | | 0 | 0 | 0 | | 0 |              | C+B+A        |\n",
    "| 1 | | 0 | 0 | 1 | | 0 |              | C+B+A'       |\n",
    "| 2 | | 0 | 1 | 0 | | 0 |              | C+B'+A       |\n",
    "| 3 | | 0 | 1 | 1 | | 0 |              | C+B'+A'      |\n",
    "| 4 | | 1 | 0 | 0 | | 1 | CB'A'        |              |\n",
    "| 5 | | 1 | 0 | 1 | | 1 | CB'A         |              |\n",
    "| 6 | | 1 | 1 | 0 | | 1 | CBA'         |              |\n",
    "| 7 | | 1 | 1 | 1 | | 1 | CBA          |              |"
   ]
  },
  {
   "cell_type": "markdown",
   "metadata": {},
   "source": [
    "Expresión canónica con minitérminos:\n",
    "$$ S = f(C,B,A) = C \\; \\overline{B} \\; \\overline{A} + C \\overline{B} A + CB \\overline{A} + CBA $$"
   ]
  },
  {
   "cell_type": "markdown",
   "metadata": {},
   "source": [
    "Expresión canónica con maxitérminos:\n",
    "$$ S = f(C,B,A) = (C+B+A) \\, (C+B+\\overline{A}) \\, (C+\\overline{B}+A) \\, (C+\\overline{B}+\\overline{A}) $$"
   ]
  },
  {
   "cell_type": "markdown",
   "metadata": {},
   "source": [
    "---\n",
    "## Ejercicio 4\n",
    "Obtener la función de conmutación sintetizada por el circuito de la figura y simplificar mediante algebra de Boole:\n",
    "\n",
    "![g2_ej04_1.svg](img/g2_ej04_1.svg)"
   ]
  },
  {
   "cell_type": "markdown",
   "metadata": {},
   "source": [
    "### Solución\n",
    "Utilizamos el esquema del circuito para llegar a la expresión:"
   ]
  },
  {
   "cell_type": "markdown",
   "metadata": {},
   "source": [
    "<img src=\"img/g2_ej04_2.svg\" width=\"600\">"
   ]
  },
  {
   "cell_type": "markdown",
   "metadata": {},
   "source": [
    "Función sin simplificar:\n",
    "$$ S = \\overline{ \\overline{A} + \\overline{ \\overline{A+B}+C } } $$"
   ]
  },
  {
   "cell_type": "markdown",
   "metadata": {},
   "source": [
    "Simplificamos utlizando el álgebra de Boole"
   ]
  },
  {
   "cell_type": "markdown",
   "metadata": {},
   "source": [
    "Resulta que:\n",
    "\n",
    "$\\overline{A+A} = \\overline{A}$"
   ]
  },
  {
   "cell_type": "markdown",
   "metadata": {},
   "source": [
    "Por ley de Morgan\n",
    "\n",
    "$\\overline{( \\overline{A + B} ) + C} = (A + B) \\, \\overline{C}$"
   ]
  },
  {
   "cell_type": "markdown",
   "metadata": {},
   "source": [
    "Aplicamos distributiva \n",
    "$$ S = \\overline{ \\overline{A} + (A+B) \\, \\overline{C} } $$"
   ]
  },
  {
   "cell_type": "markdown",
   "metadata": {},
   "source": [
    "Por ley de absorción: \n",
    "$$ S = \\overline{ \\overline{A} + A \\overline{C} + B \\overline{C} } $$"
   ]
  },
  {
   "cell_type": "markdown",
   "metadata": {},
   "source": [
    "Por ley de Morgan: \n",
    "$$ S = \\overline{ \\overline{A} + \\overline{C} } $$"
   ]
  },
  {
   "cell_type": "markdown",
   "metadata": {},
   "source": [
    "Finalmente:\n",
    "$$ S = \\overline{ \\overline{AC} } $$"
   ]
  },
  {
   "cell_type": "markdown",
   "metadata": {},
   "source": [
    "Resulta:\n",
    "$$ S = AC $$"
   ]
  },
  {
   "cell_type": "markdown",
   "metadata": {},
   "source": [
    "---\n",
    "## Ejercicio 5\n",
    "Obtener la función de conmutación sintetizada por el circuito de la figura y simplificar mediante algebra de Boole:"
   ]
  },
  {
   "cell_type": "markdown",
   "metadata": {},
   "source": [
    "![g2_ej05_1.svg](img/g2_ej05_1.svg)"
   ]
  },
  {
   "cell_type": "markdown",
   "metadata": {},
   "source": [
    "### Solución"
   ]
  },
  {
   "cell_type": "markdown",
   "metadata": {},
   "source": [
    "Expresión sin simplificar:\n",
    "$$ Z = [(A+B) \\cdot (\\overline{ A \\cdot B })] \\, \\oplus \\, [(C \\cdot D) + (\\overline{C} \\cdot \\overline{D})] $$"
   ]
  },
  {
   "cell_type": "markdown",
   "metadata": {},
   "source": [
    "**Simplificamos el primer término:**"
   ]
  },
  {
   "cell_type": "markdown",
   "metadata": {},
   "source": [
    "$$[(A+B) \\cdot (\\overline{ A \\cdot B })]$$"
   ]
  },
  {
   "cell_type": "markdown",
   "metadata": {},
   "source": [
    "Ley de Morgan:\n",
    "$$ [ (A + B) \\cdot (\\overline{A} + \\overline{B})] $$"
   ]
  },
  {
   "cell_type": "markdown",
   "metadata": {},
   "source": [
    "Aplicamos distributiva:\n",
    "$$ (A + B) \\, \\overline{A} + (A + B) \\, \\overline{B} $$"
   ]
  },
  {
   "cell_type": "markdown",
   "metadata": {},
   "source": [
    "Ley de Morgan:\n",
    "$$ \\overline{A} B + \\overline{B} A \\tag{1} $$"
   ]
  },
  {
   "cell_type": "markdown",
   "metadata": {},
   "source": [
    "**Simplificamos el segundo término:**"
   ]
  },
  {
   "cell_type": "markdown",
   "metadata": {},
   "source": [
    "**Trabajamos el segundo término**\n",
    "$$ [(C \\cdot D) + (\\overline{C} \\cdot \\overline{D})] $$"
   ]
  },
  {
   "cell_type": "markdown",
   "metadata": {},
   "source": [
    "Por ley de Morgan:\n",
    "$$ (C \\cdot D) + \\overline{C + D)} \\tag{2} $$"
   ]
  },
  {
   "cell_type": "markdown",
   "metadata": {},
   "source": [
    "Luego:\n",
    "$$ Z = [ \\overline{A} B + \\overline{B} A ] \\oplus [ (C \\cdot D) + \\overline{C + D)} ] $$"
   ]
  },
  {
   "cell_type": "markdown",
   "metadata": {},
   "source": [
    "---\n",
    "## Ejercicio 6\n",
    "Obtener la función de conmutación sinterizada por el circuito de la figura:"
   ]
  },
  {
   "cell_type": "markdown",
   "metadata": {},
   "source": [
    "![g2_ej_6.svg](img/g2_ej_6.svg)"
   ]
  },
  {
   "cell_type": "markdown",
   "metadata": {},
   "source": [
    "### Solución\n",
    "Utilizamos el esquema del circuito para llegar a la expresión:\n",
    "\n",
    "<img src=\"img/g2_ej_6_2.svg\" width=650>\n",
    "\n",
    "Entonces:\n",
    "$$ F = \\overline{X Y} \\cdot \\left( \\overline{\\overline{YZ} \\cdot U} + \\overline{UV} \\right) $$"
   ]
  },
  {
   "cell_type": "markdown",
   "metadata": {},
   "source": [
    "---\n",
    "## Ejercicio 7\n",
    "Obtener la función de conmutación sintetizada por el circuito de la figura:\n",
    "\n",
    "![g2_ej_7.svg](img/g2_ej_7.svg)"
   ]
  },
  {
   "cell_type": "markdown",
   "metadata": {},
   "source": [
    "### Solución\n",
    "Utilizamos el esquema del circuito para llegar a la expresión:\n",
    "\n",
    "![g2_ej_7_2.svg](img/g2_ej_7_2.svg)"
   ]
  },
  {
   "cell_type": "markdown",
   "metadata": {},
   "source": [
    "Entonces:\n",
    "$$ Z = \\overline{(AB + \\overline{B}) \\cdot \\left[ \\overline{(AB + \\overline{B}) \\cdot (CD + \\overline{D})} \\right]} $$"
   ]
  },
  {
   "cell_type": "markdown",
   "metadata": {},
   "source": [
    "---\n",
    "## Ejercicio 8\n",
    "Obtener la tabla de verdad que se corresponde con el circuito de la figura, y las ecuaciones de cada una de las funciones, $S_0,\\; S_1, \\; S_2, \\; S_3$.\n",
    "\n",
    "![g2_ej_8.svg](img/g2_ej_8.svg)"
   ]
  },
  {
   "cell_type": "markdown",
   "metadata": {},
   "source": [
    "### Solución\n",
    "Tabla de verdad:\n",
    "\n",
    "| A | B | | S0 | S1 | S2 | S3 |\n",
    "|---|---|-|----|----|----|----|\n",
    "| 0 | 0 | | 0  | 0  | 0  | 0  |\n",
    "| 0 | 1 | | 0  | 1  | 0  | 0  |\n",
    "| 1 | 0 | | 1  | 0  | 1  | 0  |\n",
    "| 1 | 1 | | 0  | 0  | 0  | 1  |"
   ]
  },
  {
   "cell_type": "markdown",
   "metadata": {},
   "source": [
    "Ecuaciones:\n",
    "\n",
    "$$\\begin{array}{l}\n",
    "S_0 = A \\cdot \\overline{B} \\\\\n",
    "S_1 = \\overline{A} \\cdot B \\\\\n",
    "S_2 = A \\cdot \\overline{B} \\\\\n",
    "S_3 = A \\cdot B\n",
    "\\end{array}$$"
   ]
  },
  {
   "cell_type": "markdown",
   "metadata": {},
   "source": [
    "---\n",
    "## Ejercicio 9\n",
    "Un circuito digital posee una entrada de señal E, otra entrada de selección S, y dos salidas de señal Y1 e Y2, siendo su funcionamiento el siguiente:\n",
    "\n",
    "    Si S = 1, Y1 = E e Y2 = 0\n",
    "    Si S = 0, Y2 = E e Y1 = 0\n",
    "Obtenga un circuito lógico que realice dicha función."
   ]
  },
  {
   "cell_type": "markdown",
   "metadata": {},
   "source": [
    "### Solución"
   ]
  },
  {
   "cell_type": "markdown",
   "metadata": {},
   "source": [
    "Tabla de verdad:\n",
    "\n",
    "| E | S | Y1 | Y2 |\n",
    "|---|---|----|----|\n",
    "| 0 | 0 | 0  | 0  |\n",
    "| 0 | 1 | 0  | 0  |\n",
    "| 1 | 0 | 0  | 1  |\n",
    "| 1 | 1 | 1  | 0  |"
   ]
  },
  {
   "cell_type": "markdown",
   "metadata": {},
   "source": [
    "Ecuaciones:\n",
    "$$\\begin{array}{l}\n",
    "Y_1 = E \\cdot S \\\\\n",
    "Y_2 = E \\cdot \\overline{S}\n",
    "\\end{array}$$"
   ]
  },
  {
   "cell_type": "markdown",
   "metadata": {},
   "source": [
    "Circuito:\n",
    "\n",
    "![g2_ej_9.svg](img/g2_ej_9.svg)"
   ]
  },
  {
   "cell_type": "markdown",
   "metadata": {},
   "source": [
    "---\n",
    "## Ejercicio 10\n",
    "El control de una luz de escalera de realiza mediante dos interruptores \"a\" y \"b\", colocados en los extremos de la misma. Se pide:\n",
    "1. Establezca la tabla de verdad\n",
    "2. Obtenga la función lógica\n",
    "3. Represéntela mediante un circuito con compuertas lógicas"
   ]
  },
  {
   "cell_type": "markdown",
   "metadata": {},
   "source": [
    "### Solución\n",
    "Tabla de verdad:\n",
    "\n",
    "| a | b | | s |\n",
    "|---|---|-|---|\n",
    "| 0 | 0 | | 0 |\n",
    "| 0 | 1 | | 1 |\n",
    "| 1 | 0 | | 1 |\n",
    "| 1 | 1 | | 0 |"
   ]
  },
  {
   "cell_type": "markdown",
   "metadata": {},
   "source": [
    "Ecuación:\n",
    "$$ s = (\\overline{a} \\cdot b) + (a \\cdot \\overline{b}) $$"
   ]
  },
  {
   "cell_type": "markdown",
   "metadata": {},
   "source": [
    "Circuito:\n",
    "\n",
    "![g2_ej_10.svg](img/g2_ej_10.svg)"
   ]
  }
 ],
 "metadata": {
  "hide_input": false,
  "kernelspec": {
   "display_name": "Python 3",
   "language": "python",
   "name": "python3"
  },
  "language_info": {
   "codemirror_mode": {
    "name": "ipython",
    "version": 3
   },
   "file_extension": ".py",
   "mimetype": "text/x-python",
   "name": "python",
   "nbconvert_exporter": "python",
   "pygments_lexer": "ipython3",
   "version": "3.8.10"
  },
  "toc": {
   "base_numbering": 1,
   "nav_menu": {},
   "number_sections": true,
   "sideBar": true,
   "skip_h1_title": false,
   "title_cell": "Table of Contents",
   "title_sidebar": "Contents",
   "toc_cell": false,
   "toc_position": {},
   "toc_section_display": true,
   "toc_window_display": false
  },
  "varInspector": {
   "cols": {
    "lenName": 16,
    "lenType": 16,
    "lenVar": 40
   },
   "kernels_config": {
    "python": {
     "delete_cmd_postfix": "",
     "delete_cmd_prefix": "del ",
     "library": "var_list.py",
     "varRefreshCmd": "print(var_dic_list())"
    },
    "r": {
     "delete_cmd_postfix": ") ",
     "delete_cmd_prefix": "rm(",
     "library": "var_list.r",
     "varRefreshCmd": "cat(var_dic_list()) "
    }
   },
   "types_to_exclude": [
    "module",
    "function",
    "builtin_function_or_method",
    "instance",
    "_Feature"
   ],
   "window_display": false
  }
 },
 "nbformat": 4,
 "nbformat_minor": 4
}
