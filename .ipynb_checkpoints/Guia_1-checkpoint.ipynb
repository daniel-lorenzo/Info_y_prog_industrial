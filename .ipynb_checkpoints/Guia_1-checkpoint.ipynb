{
 "cells": [
  {
   "cell_type": "markdown",
   "metadata": {},
   "source": [
    "# Unidad N°1 - Conversión entre sistemas numéricos\n",
    "**UNLZ - Facultad de Ingeniería**   \n",
    "**Informática y Programación Industrial**  \n",
    "**Alumno:** Daniel Antonio Lorenzo\n",
    "\n",
    "<a href=\"https://colab.research.google.com/github/daniel-lorenzo/Info_y_prog_industrial/blob/main/Guia_1.ipynb\"><img align=\"left\" src=\"https://colab.research.google.com/assets/colab-badge.svg\" alt=\"Open in Colab\" title=\"Open and Execute in Google Colaboratory\"></a>"
   ]
  },
  {
   "cell_type": "markdown",
   "metadata": {},
   "source": [
    "Usando el método que considere conveniente, realice las siguientes conversiones, datallando el paso a paso del procedimiento:"
   ]
  },
  {
   "cell_type": "markdown",
   "metadata": {},
   "source": [
    "## Ejercicio 1\n",
    "Convertir de binario a decimal: ``100011110``"
   ]
  },
  {
   "cell_type": "markdown",
   "metadata": {},
   "source": [
    "### Solución\n",
    "$$ (1) \\cdot 2^8 + (1) \\cdot 2^4 + (1) \\cdot 2^3 + (1) \\cdot 2^2 + (1) \\cdot 2^1 = 286 $$\n",
    "\n",
    "**Resultado: 286**"
   ]
  },
  {
   "cell_type": "code",
   "execution_count": 4,
   "metadata": {},
   "outputs": [
    {
     "data": {
      "text/plain": [
       "286"
      ]
     },
     "execution_count": 4,
     "metadata": {},
     "output_type": "execute_result"
    }
   ],
   "source": [
    "int('100011110',2)"
   ]
  },
  {
   "cell_type": "markdown",
   "metadata": {},
   "source": [
    "---\n",
    "## Ejercicio 2\n",
    "Convertir de binario a octal: ``101101000``"
   ]
  },
  {
   "cell_type": "markdown",
   "metadata": {},
   "source": [
    "### Solución\n",
    "Tomo grupos de tres:\n",
    "$$\\begin{array}{|r|r|r|}\n",
    "\\hline\n",
    "101 & 101 & 000 \\\\\n",
    "\\hline\n",
    "2^2 + 2^0 & 2^2 + 2^0 & 0 \\\\\n",
    "5 & 5 & 0 \\\\\n",
    "\\hline\n",
    "\\end{array}$$\n",
    "\n",
    "**Resultado = 550**"
   ]
  },
  {
   "cell_type": "code",
   "execution_count": 5,
   "metadata": {},
   "outputs": [
    {
     "data": {
      "text/plain": [
       "'0o550'"
      ]
     },
     "execution_count": 5,
     "metadata": {},
     "output_type": "execute_result"
    }
   ],
   "source": [
    "num = int('101101000',2)\n",
    "oct(num)"
   ]
  },
  {
   "cell_type": "markdown",
   "metadata": {},
   "source": [
    "---\n",
    "## Ejercicio 3\n",
    "Convertir de binario a hexadecimal: ``110011110``"
   ]
  },
  {
   "cell_type": "markdown",
   "metadata": {},
   "source": [
    "### Solución\n",
    "Separo en grupos de cuatro: \n",
    "``0001 1001 1110``"
   ]
  },
  {
   "cell_type": "markdown",
   "metadata": {},
   "source": [
    "$$\\begin{array}{|r|r|r|}\n",
    "\\hline\n",
    "0001 & 1001 & 1110 \\\\\n",
    "\\hline\n",
    "2^0 & 2^3 + 2^0 & 2^3 + 2^2 + 2^1 \\\\\n",
    "1 & 9 & 13 \\\\\n",
    "1 & 9 & e \\\\\n",
    "\\hline\n",
    "\\end{array}$$\n",
    "\n",
    "**Resultado: 19e**"
   ]
  },
  {
   "cell_type": "code",
   "execution_count": 2,
   "metadata": {},
   "outputs": [
    {
     "data": {
      "text/plain": [
       "'0x19e'"
      ]
     },
     "execution_count": 2,
     "metadata": {},
     "output_type": "execute_result"
    }
   ],
   "source": [
    "num = int('110011110',2)\n",
    "hex(num)"
   ]
  },
  {
   "cell_type": "markdown",
   "metadata": {},
   "source": [
    "---\n",
    "## Ejercicio 4\n",
    "Convertir de binario a qinario: ``101001110``"
   ]
  },
  {
   "cell_type": "markdown",
   "metadata": {},
   "source": [
    "### Solución\n",
    "Primero pasamos a decimal:\n",
    "$$ 2^8 + 2^6 + 2^3 + 2^2 + 2^1 = 334 $$"
   ]
  },
  {
   "cell_type": "markdown",
   "metadata": {},
   "source": [
    "Dividimos por 5:"
   ]
  },
  {
   "attachments": {},
   "cell_type": "markdown",
   "metadata": {},
   "source": [
    "![image.png](data:image/png;base64,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)"
   ]
  },
  {
   "cell_type": "markdown",
   "metadata": {},
   "source": [
    "**Resultado: 2314**"
   ]
  },
  {
   "cell_type": "markdown",
   "metadata": {},
   "source": [
    "---\n",
    "## Ejercicio 5\n",
    "Convertir de binario a Base-11:  `111111001`"
   ]
  },
  {
   "cell_type": "markdown",
   "metadata": {},
   "source": [
    "### Solución\n",
    "Primero pasamos a decimal:\n",
    "\n",
    "$$ 2^8 + 2^7 + 2^6 + 2^5 + 2^4 + 2^3 + 2^0 = 505 $$"
   ]
  },
  {
   "cell_type": "code",
   "execution_count": 2,
   "metadata": {},
   "outputs": [
    {
     "data": {
      "text/plain": [
       "505"
      ]
     },
     "execution_count": 2,
     "metadata": {},
     "output_type": "execute_result"
    }
   ],
   "source": [
    "int('111111001',2)"
   ]
  },
  {
   "cell_type": "markdown",
   "metadata": {},
   "source": [
    "![image.png](data:image/png;base64,iVBORw0KGgoAAAANSUhEUgAAAF0AAAAiCAIAAACyZ0KAAAAEqklEQVRoBWP4PzjA3UEDIOHBMDiC5f+gCZa7o+GCPS5Gw4UO4fJza6IwMys7DPCYt1398///v4+np8SaKYgKC4urOuQsv/nj////2FXSOB/dOb+pNUidh82i4ehteGhgFbxL3Xz0eVkgn8OUx39RSqsve7KU5UPn3/r2/9/Hs+0OYqatl3//x6ryPy3D5c75eTGa2n75UQZciHDBKggOMmrmo39Ppznx+S/5hBIsP3amSmtVnPoNEfyyPlrMoOHiL2wq/9M2XC7v2rjr8u2TrbbcSOGCTZDq4fLnWqsJj7arn7GShJikinVc/9E3//4+mmTP67vwPTSs/lxpMRIIW/0Zi0qQCnjqphXjDmq4QKzBJghxL3Xq6b/3VlWkFE7a+/Dr399vT0/wlhQPXf7sWrspX9hqUJkCAn/v9Vnz+ix8i0Xly3/DNVygfodSv44UKglGr7892YHXB5FeLjcZCkSs/YaiFKJyw/fhGi4/X1w+fPYRLGn83J8jJ5Kw5fOeDFn10uO/ICHxcXW4iHHL1W/YVP4cruHybX+ukqBtw+FXv///eXe610NcOnb923/fDhWqywTMuPbl3583h2ssxe36b/3BrnK4hguoIp6RbKMkxMvLL6pkkzTt1Pt/oGTy+fzMBHM5IX4BMXX3so0PQVUTDpW0Km7v3r17eZI3LxsbGxsLMyMTCxsbG4dM3NIbWAXBjoAkb+qUuyiFBlkcGoYLiUaPhgv2ABsNF8Lhkvv//yiChwAoxUDKF7jQKCMXOR+NBgdyCIymF+ylBx3C5V/a2ZmaunzMjlMS/8Ic8fG0fawZn6gwh7iqdM7y2B8wcVqXcf/e+qYoMklmBPz8n/v/p2+iMCMrOzM7BPFItF3NgTmA1uHyL21blohhlHmGOSsiXL4EZCnzhs6P/fY/9+NZKwcx8dbL2TAHISdmarP/pW5JEVJW4paGhMtn90A+6SmP4WGBbB3NwyXj+pmYz3+TZ7qxwcPlx05taS3jU78h7shYH81p0BD5m/ZJ5vUmLW17q5V1YrLgcPn31MGJT2nJJ+TggLNpHS4Q3/5DDpecR5OkeX1d30MDIudKi6hAmOc3GofLv1c+CVrS3Vczr7RAw+XPNUsTHiFXPzElCU5JFcm4/pA3/wY0XK63i/OFecLKlJx7fZK8PvBggruMqox/KevjhRx6o3/9z7kKC5e/9zwrUgwm7U34+jf77Wk7b0mu0OUp/6DRMyDpZbI0UkDkXG4SFYjwoml6eblWQ8fZ7vqv3P9I4YJaomUfKeQXjPb+PnDhkvtzj46sutFxkCtz//9PXx3OadwS/YeG+Sh9RQSXiBSvvDwISQkys/ByKbnZXHgadfhsIizZZu3P4RVJ8AXVUyA0AOkl9/+34EJ1noAZ0V/+5bw5bGopLt1/C2ulQNWsBPUwIh9926+vJCjVcDjl9/+cd6dtPMR5Yten0isfffEI5wc1EFiZGZhYmdnZWRRyAn/+z/183jHBnFeIn11MXa5sYwIdKiNYrkGEy/9/6WdnaNkocfDysokqSSVNC3tP73KXhnmEFmmKbvloNFxgyZVG0Ug3Y+lT7g7l9AKpm0ZJRAgAAEeTcwvHQ9MFAAAAAElFTkSuQmCC)     \n",
    "         \n",
    "Luego: \n",
    "\n",
    "$\\begin{array}{l}\n",
    "45_{10} = 41_{11}\\\\\n",
    "10_{10} = a_{11}\n",
    "\\end{array}$\n",
    "\n",
    "**Resultado: 41a**"
   ]
  },
  {
   "cell_type": "markdown",
   "metadata": {},
   "source": [
    "---\n",
    "## Ejercicio 6\n",
    "Convertir de decimal a binario: `368`"
   ]
  },
  {
   "cell_type": "markdown",
   "metadata": {},
   "source": [
    "### Solución\n",
    "![image.png](data:image/png;base64,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)\n",
    "\n",
    "**Resultado: 101110000**                                  "
   ]
  },
  {
   "cell_type": "code",
   "execution_count": 4,
   "metadata": {},
   "outputs": [
    {
     "data": {
      "text/plain": [
       "'0b101110000'"
      ]
     },
     "execution_count": 4,
     "metadata": {},
     "output_type": "execute_result"
    }
   ],
   "source": [
    "bin(368)"
   ]
  },
  {
   "cell_type": "markdown",
   "metadata": {},
   "source": [
    "---\n",
    "## Ejercicio 7\n",
    "Convertir de decimal a octal:  `6841`"
   ]
  },
  {
   "attachments": {},
   "cell_type": "markdown",
   "metadata": {},
   "source": [
    "### Solución\n",
    "![image.png](data:image/png;base64,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)\n",
    "\n",
    "En binario: 1101010111001                                                                     "
   ]
  },
  {
   "cell_type": "code",
   "execution_count": 5,
   "metadata": {},
   "outputs": [
    {
     "data": {
      "text/plain": [
       "'0b1101010111001'"
      ]
     },
     "execution_count": 5,
     "metadata": {},
     "output_type": "execute_result"
    }
   ],
   "source": [
    "bin(6841)"
   ]
  },
  {
   "cell_type": "markdown",
   "metadata": {},
   "source": [
    "Tomo grupos de tres:\n",
    "\n",
    "     001 101 010 111 001\n",
    "       1   5   2   7   1\n",
    "\n",
    "**Resultado: 15271**"
   ]
  },
  {
   "cell_type": "code",
   "execution_count": 6,
   "metadata": {},
   "outputs": [
    {
     "data": {
      "text/plain": [
       "'0o15271'"
      ]
     },
     "execution_count": 6,
     "metadata": {},
     "output_type": "execute_result"
    }
   ],
   "source": [
    "oct(6841)"
   ]
  },
  {
   "cell_type": "markdown",
   "metadata": {},
   "source": [
    "---\n",
    "## Ejercicio 8\n",
    "Convertir de decimal a hexadecimal: `41386`"
   ]
  },
  {
   "cell_type": "markdown",
   "metadata": {},
   "source": [
    "### Solución\n",
    "Primero convertimos a binario, dividiendo sucesivamente por 2:\n",
    "\n",
    "![image.png](data:image/png;base64,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)\n",
    "\n",
    "En binario: 1010000110101010                                                                                                      "
   ]
  },
  {
   "cell_type": "code",
   "execution_count": 7,
   "metadata": {},
   "outputs": [
    {
     "data": {
      "text/plain": [
       "'0b1010000110101010'"
      ]
     },
     "execution_count": 7,
     "metadata": {},
     "output_type": "execute_result"
    }
   ],
   "source": [
    "bin(41386)"
   ]
  },
  {
   "cell_type": "markdown",
   "metadata": {},
   "source": [
    "Tomo grupos de cuatro:\n",
    "\n",
    "    1010 0001 1010 1010\n",
    "       a    1    a    a\n",
    "\n",
    "**Resultado: a1aa**"
   ]
  },
  {
   "cell_type": "code",
   "execution_count": 8,
   "metadata": {},
   "outputs": [
    {
     "data": {
      "text/plain": [
       "'0xa1aa'"
      ]
     },
     "execution_count": 8,
     "metadata": {},
     "output_type": "execute_result"
    }
   ],
   "source": [
    "hex(41386)"
   ]
  },
  {
   "cell_type": "markdown",
   "metadata": {},
   "source": [
    "---\n",
    "## Ejercicio 9\n",
    "Convertir de decimal a quinario: `7689`"
   ]
  },
  {
   "attachments": {},
   "cell_type": "markdown",
   "metadata": {},
   "source": [
    "### Solución\n",
    "\n",
    "![image.png](data:image/png;base64,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)\n",
    "\n",
    "Resultado: 221224                               "
   ]
  },
  {
   "cell_type": "markdown",
   "metadata": {},
   "source": [
    "---\n",
    "## Ejercicio 10\n",
    "Convertir de decmal a Base-11: `1238`"
   ]
  },
  {
   "cell_type": "markdown",
   "metadata": {},
   "source": [
    "### Solución\n",
    "![image.png](data:image/png;base64,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)\n",
    "\n",
    "10 = a\n",
    "\n",
    "**Resultado:** a26"
   ]
  },
  {
   "cell_type": "markdown",
   "metadata": {},
   "source": [
    "---\n",
    "Usando el método que considere conveniente, realice las siguientes conversiones con punto flotante, utilizando 8 dígitos entre la parte entera y la parte decimal, aparte, marcar el valor real y el error de conversión, detallando el paso a paso del procedimiento:"
   ]
  },
  {
   "cell_type": "markdown",
   "metadata": {},
   "source": [
    "## Ejercicio 11\n",
    "Convertir de binario a decimal: `110.10001`"
   ]
  },
  {
   "cell_type": "markdown",
   "metadata": {},
   "source": [
    "### Solución\n",
    "$$ N_{10} = 2^2 + 2^1 + 2^{-1} + 2^{-5} $$"
   ]
  },
  {
   "cell_type": "code",
   "execution_count": 1,
   "metadata": {},
   "outputs": [
    {
     "data": {
      "text/plain": [
       "6.53125"
      ]
     },
     "execution_count": 1,
     "metadata": {},
     "output_type": "execute_result"
    }
   ],
   "source": [
    "2**2 + 2**1 + 2**-1 + 2**-5"
   ]
  },
  {
   "cell_type": "markdown",
   "metadata": {},
   "source": [
    "---\n",
    "## Ejercicio 12\n",
    "Convertir de binario a octal: `110.11111`"
   ]
  },
  {
   "cell_type": "markdown",
   "metadata": {},
   "source": [
    "### Solución\n",
    "Tomamos grupos de tres:\n",
    "$$ \\underbrace{110}_{6} \\, , \\, \\underbrace{111}_{7} \\, \\underbrace{110}_{6} $$\n",
    "Resultado: $6,76$"
   ]
  },
  {
   "cell_type": "markdown",
   "metadata": {},
   "source": [
    "---\n",
    "## Ejercicio 13\n",
    "Convertir de binario a hexadecimal: `101.11011`"
   ]
  },
  {
   "cell_type": "markdown",
   "metadata": {},
   "source": [
    "### Solución\n",
    "Tomamos grupos de cuatro:\n",
    "$$ \\underbrace{0101}_{5} \\, , \\, \\underbrace{1101}_{D} \\, \\underbrace{1000}_{8} $$\n",
    "Resultado: $5,D8$"
   ]
  },
  {
   "cell_type": "markdown",
   "metadata": {},
   "source": [
    "---\n",
    "## Ejercicio 14\n",
    "Convertir de decimal a binario: `6.1`"
   ]
  },
  {
   "cell_type": "markdown",
   "metadata": {},
   "source": [
    "### Solución\n",
    "Tabla de potencias base 2:\n",
    "\n",
    "$\\begin{array}{|lcl|}\n",
    "\\hline\n",
    "2^{-5} & = & 0,03125 \\\\\n",
    "2^{-4} & = & 0,0625 \\\\\n",
    "2^{-3} & = & 0,125 \\\\\n",
    "2^{-2} & = & 0,25 \\\\\n",
    "2^{-1} & = & 0,5 \\\\\n",
    "2^0 & = & 1 \\\\\n",
    "2^1 & = & 2 \\\\\n",
    "2^2 & = & 4 \\\\\n",
    "2^3 & = & 8 \\\\\n",
    "\\hline\n",
    "\\end{array}$"
   ]
  },
  {
   "cell_type": "markdown",
   "metadata": {},
   "source": [
    "$$\\begin{array}{ll}\n",
    "6,1 \\\\\n",
    "4 & = 2^2 \\\\\n",
    "\\hline\n",
    "2,1 \\\\\n",
    "2 & = 2^1 \\\\\n",
    "\\hline\n",
    "0,1 \\\\\n",
    "0,0625 & = 2^{-4} \\\\\n",
    "\\hline\n",
    "0,0375 \\\\\n",
    "0,03125 & = 2^{-5} \\\\\n",
    "\\hline\n",
    "0,00625\n",
    "\\end{array}$$"
   ]
  },
  {
   "cell_type": "markdown",
   "metadata": {},
   "source": [
    "**Resultado:**\n",
    "$$ 110,00011 $$\n",
    "- valor real: 6,09375\n",
    "- error: 0,00625"
   ]
  },
  {
   "cell_type": "markdown",
   "metadata": {},
   "source": [
    "---\n",
    "## Ejercicio 15\n",
    "Convertir de decimal a octal: `323.136`"
   ]
  },
  {
   "cell_type": "markdown",
   "metadata": {},
   "source": [
    "### Solución\n",
    "Primero convertimos a binario:\n",
    "\n",
    "![ej15.png](img/ej15.png)"
   ]
  },
  {
   "cell_type": "markdown",
   "metadata": {},
   "source": [
    "En binario: `101000011.001000101001`\n",
    "\n",
    "Luego convertimos a octal:    \n",
    "Tomamos grupos de tres\n",
    "\n",
    "       101 000 011.001 000 101 001\n",
    "        5   0   3 . 1   0   5   1\n",
    "\n",
    "**Resultado: 503.1051**"
   ]
  },
  {
   "cell_type": "markdown",
   "metadata": {},
   "source": [
    "---\n",
    "## Ejercicio 16\n",
    "Convertir de decimal a hexadecimal: `663.4153`"
   ]
  },
  {
   "cell_type": "markdown",
   "metadata": {},
   "source": [
    "### Solución\n",
    "Primero convertimos a binario\n",
    "\n",
    "![ej16.png](img/ej16.png)"
   ]
  },
  {
   "cell_type": "markdown",
   "metadata": {},
   "source": [
    "En binario: `1010010111.0110101001010001`\n",
    "\n",
    "Luego convertimos a hexadecimal:      \n",
    "Tomamos grupos de cuatro:\n",
    "\n",
    "    0010 1001 0111 . 0110 1010 0101 0001\n",
    "      2    9    7  .  6    a    5    1 "
   ]
  },
  {
   "cell_type": "markdown",
   "metadata": {},
   "source": [
    "**Resultado: 297.6a51**"
   ]
  }
 ],
 "metadata": {
  "hide_input": false,
  "kernelspec": {
   "display_name": "Python 3",
   "language": "python",
   "name": "python3"
  },
  "language_info": {
   "codemirror_mode": {
    "name": "ipython",
    "version": 3
   },
   "file_extension": ".py",
   "mimetype": "text/x-python",
   "name": "python",
   "nbconvert_exporter": "python",
   "pygments_lexer": "ipython3",
   "version": "3.8.10"
  },
  "toc": {
   "base_numbering": 1,
   "nav_menu": {},
   "number_sections": true,
   "sideBar": true,
   "skip_h1_title": false,
   "title_cell": "Table of Contents",
   "title_sidebar": "Contents",
   "toc_cell": false,
   "toc_position": {},
   "toc_section_display": true,
   "toc_window_display": false
  },
  "varInspector": {
   "cols": {
    "lenName": 16,
    "lenType": 16,
    "lenVar": 40
   },
   "kernels_config": {
    "python": {
     "delete_cmd_postfix": "",
     "delete_cmd_prefix": "del ",
     "library": "var_list.py",
     "varRefreshCmd": "print(var_dic_list())"
    },
    "r": {
     "delete_cmd_postfix": ") ",
     "delete_cmd_prefix": "rm(",
     "library": "var_list.r",
     "varRefreshCmd": "cat(var_dic_list()) "
    }
   },
   "types_to_exclude": [
    "module",
    "function",
    "builtin_function_or_method",
    "instance",
    "_Feature"
   ],
   "window_display": false
  }
 },
 "nbformat": 4,
 "nbformat_minor": 4
}
