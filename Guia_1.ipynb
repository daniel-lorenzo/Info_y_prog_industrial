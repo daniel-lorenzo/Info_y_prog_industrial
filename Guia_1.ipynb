{
 "cells": [
  {
   "cell_type": "markdown",
   "metadata": {},
   "source": [
    "# Informática y Programación Industrial"
   ]
  },
  {
   "cell_type": "markdown",
   "metadata": {},
   "source": [
    "## Guía de ejercicios\n",
    "### Conversión entre sistemas numéricos"
   ]
  },
  {
   "cell_type": "markdown",
   "metadata": {},
   "source": [
    "Usando el método que considere conveniente, realice las siguientes conversiones, datallando el paso a paso del procedimiento:"
   ]
  },
  {
   "cell_type": "markdown",
   "metadata": {},
   "source": [
    "---\n",
    "1. Convertir de binario a decimal: ``100011110``"
   ]
  },
  {
   "cell_type": "markdown",
   "metadata": {},
   "source": [
    "$$ (1) \\cdot 2^8 + (1) \\cdot 2^4 + (1) \\cdot 2^3 + (1) \\cdot 2^2 + (1) \\cdot 2^1 = 286 $$\n",
    "**Resultado: 286**"
   ]
  },
  {
   "cell_type": "code",
   "execution_count": 4,
   "metadata": {},
   "outputs": [
    {
     "data": {
      "text/plain": [
       "286"
      ]
     },
     "execution_count": 4,
     "metadata": {},
     "output_type": "execute_result"
    }
   ],
   "source": [
    "int('100011110',2)"
   ]
  },
  {
   "cell_type": "markdown",
   "metadata": {},
   "source": [
    "---\n",
    "2. Convertir de binario a octal: ``101101000``"
   ]
  },
  {
   "cell_type": "markdown",
   "metadata": {},
   "source": [
    "Tomo grupos de tres:\n",
    "$$\\begin{array}{|r|r|r|}\n",
    "\\hline\n",
    "101 & 101 & 000 \\\\\n",
    "\\hline\n",
    "2^2 + 2^0 & 2^2 + 2^0 & 0 \\\\\n",
    "5 & 5 & 0 \\\\\n",
    "\\hline\n",
    "\\end{array}$$\n",
    "**Resultado = 550**"
   ]
  },
  {
   "cell_type": "code",
   "execution_count": 5,
   "metadata": {},
   "outputs": [
    {
     "data": {
      "text/plain": [
       "'0o550'"
      ]
     },
     "execution_count": 5,
     "metadata": {},
     "output_type": "execute_result"
    }
   ],
   "source": [
    "num = int('101101000',2)\n",
    "oct(num)"
   ]
  },
  {
   "cell_type": "markdown",
   "metadata": {},
   "source": [
    "---\n",
    "3. Convertir de binario a hexadecimal: ``110011110``"
   ]
  },
  {
   "cell_type": "markdown",
   "metadata": {},
   "source": [
    "Separo en grupos de cuatro: \n",
    "``0001 1001 1110``"
   ]
  },
  {
   "cell_type": "markdown",
   "metadata": {},
   "source": [
    "$$\\begin{array}{|r|r|r|}\n",
    "\\hline\n",
    "0001 & 1001 & 1110 \\\\\n",
    "\\hline\n",
    "2^0 & 2^3 + 2^0 & 2^3 + 2^2 + 2^1 \\\\\n",
    "1 & 9 & 13 \\\\\n",
    "1 & 9 & e \\\\\n",
    "\\hline\n",
    "\\end{array}$$\n",
    "**Resultado: 19e**"
   ]
  },
  {
   "cell_type": "code",
   "execution_count": 2,
   "metadata": {},
   "outputs": [
    {
     "data": {
      "text/plain": [
       "'0x19e'"
      ]
     },
     "execution_count": 2,
     "metadata": {},
     "output_type": "execute_result"
    }
   ],
   "source": [
    "num = int('110011110',2)\n",
    "hex(num)"
   ]
  },
  {
   "cell_type": "markdown",
   "metadata": {},
   "source": [
    "---\n",
    "4. Convertir de binario a qinario: ``101001110``"
   ]
  },
  {
   "cell_type": "markdown",
   "metadata": {},
   "source": [
    "Primero pasamos a decimal:\n",
    "$$ 2^8 + 2^6 + 2^3 + 2^2 + 2^1 = 334 $$"
   ]
  },
  {
   "cell_type": "markdown",
   "metadata": {},
   "source": [
    "Dividimos por 5:\n",
    "\n",
    "            334  /_ 5\n",
    "              4    66  /_ 5\n",
    "                    1    13  /_ 5\n",
    "                          3    2"
   ]
  },
  {
   "cell_type": "markdown",
   "metadata": {},
   "source": [
    "**Resultado: 2314**"
   ]
  },
  {
   "cell_type": "markdown",
   "metadata": {},
   "source": [
    "---\n",
    "5. Convertir de binario a Base-11:  `111111001`"
   ]
  },
  {
   "cell_type": "markdown",
   "metadata": {},
   "source": [
    "Primero pasamos a decimal:\n",
    "$$ 2^8 + 2^7 + 2^6 + 2^5 + 2^4 + 2^3 + 2^0 = 505 $$"
   ]
  },
  {
   "cell_type": "code",
   "execution_count": 2,
   "metadata": {},
   "outputs": [
    {
     "data": {
      "text/plain": [
       "505"
      ]
     },
     "execution_count": 2,
     "metadata": {},
     "output_type": "execute_result"
    }
   ],
   "source": [
    "int('111111001',2)"
   ]
  },
  {
   "cell_type": "markdown",
   "metadata": {},
   "source": [
    "        505  /_ 11\n",
    "         65     45\n",
    "         10       \n",
    "         \n",
    "Luego: \n",
    "\n",
    "$\\begin{array}{l}\n",
    "45_{10} = 41_{11}\\\\\n",
    "10_{10} = a_{11}\n",
    "\\end{array}$\n",
    "\n",
    "**Resultado: 41a**"
   ]
  },
  {
   "cell_type": "markdown",
   "metadata": {},
   "source": [
    "---\n",
    "6. Convertir de decimal a binario: `368`"
   ]
  },
  {
   "cell_type": "markdown",
   "metadata": {},
   "source": [
    "    368  /_ 2\n",
    "      0   184  /_ 2\n",
    "            0    92  /_ 2\n",
    "                  0    46  /_ 2\n",
    "                        0    23  /_ 2\n",
    "                              1    11  /_ 2\n",
    "                                    1     5  /_ 2\n",
    "                                          1     2  /_ 2\n",
    "                                                0     1\n",
    "**Resultado: 101110000**                                  "
   ]
  },
  {
   "cell_type": "code",
   "execution_count": 4,
   "metadata": {},
   "outputs": [
    {
     "data": {
      "text/plain": [
       "'0b101110000'"
      ]
     },
     "execution_count": 4,
     "metadata": {},
     "output_type": "execute_result"
    }
   ],
   "source": [
    "bin(368)"
   ]
  },
  {
   "cell_type": "markdown",
   "metadata": {},
   "source": [
    "---\n",
    "7. Convertir de decimal a octal:  `6841`"
   ]
  },
  {
   "cell_type": "markdown",
   "metadata": {},
   "source": [
    "    6841  /_ 2\n",
    "       1   3420  /_ 2\n",
    "              0   1710  /_ 2\n",
    "                     0    855  /_ 2\n",
    "                            1   427  /_ 2\n",
    "                                  1   213  /_ 2\n",
    "                                        1   106  /_ 2\n",
    "                                              0   53  /_ 2\n",
    "                                                   1    26  /_ 2\n",
    "                                                         0    13  /_ 2\n",
    "                                                               1     6  /_ 2\n",
    "                                                                     0     3  /_ 2\n",
    "                                                                           1     1\n",
    "En binario: 1101010111001                                                                     "
   ]
  },
  {
   "cell_type": "code",
   "execution_count": 5,
   "metadata": {},
   "outputs": [
    {
     "data": {
      "text/plain": [
       "'0b1101010111001'"
      ]
     },
     "execution_count": 5,
     "metadata": {},
     "output_type": "execute_result"
    }
   ],
   "source": [
    "bin(6841)"
   ]
  },
  {
   "cell_type": "markdown",
   "metadata": {},
   "source": [
    "Tomo grupos de tres:\n",
    "\n",
    "     001 101 010 111 001\n",
    "       1   5   2   7   1\n",
    "\n",
    "**Resultado: 15271**"
   ]
  },
  {
   "cell_type": "code",
   "execution_count": 6,
   "metadata": {},
   "outputs": [
    {
     "data": {
      "text/plain": [
       "'0o15271'"
      ]
     },
     "execution_count": 6,
     "metadata": {},
     "output_type": "execute_result"
    }
   ],
   "source": [
    "oct(6841)"
   ]
  },
  {
   "cell_type": "markdown",
   "metadata": {},
   "source": [
    "---\n",
    "8. Convertir de decimal a hexadecimal: `41386`"
   ]
  },
  {
   "cell_type": "markdown",
   "metadata": {},
   "source": [
    "Primero convertimos a binario, dividiendo sucesivamente por 2:\n",
    "\n",
    "    41386  /_ 2\n",
    "        0   20693  /_ 2\n",
    "                1    10346  /_ 2\n",
    "                         0   5173  /_ 2\n",
    "                                1   2586  /_ 2\n",
    "                                       0   1293  /_ 2\n",
    "                                              1    646  /_ 2\n",
    "                                                     0    323  /_ 2\n",
    "                                                            1   161  /_ 2\n",
    "                                                                  1    80  /_ 2\n",
    "                                                                        0    40  /_ 2\n",
    "                                                                              0    20  /_ 2\n",
    "                                                                                    0    10  /_ 2\n",
    "                                                                                          0     5  /_ 2\n",
    "                                                                                                1     2  /_ 2\n",
    "                                                                                                      0     1\n",
    "En binario: 1010000110101010                                                                                                      "
   ]
  },
  {
   "cell_type": "code",
   "execution_count": 7,
   "metadata": {},
   "outputs": [
    {
     "data": {
      "text/plain": [
       "'0b1010000110101010'"
      ]
     },
     "execution_count": 7,
     "metadata": {},
     "output_type": "execute_result"
    }
   ],
   "source": [
    "bin(41386)"
   ]
  },
  {
   "cell_type": "markdown",
   "metadata": {},
   "source": [
    "Tomo grupos de cuatro:\n",
    "\n",
    "    1010 0001 1010 1010\n",
    "       a    1    a    a\n",
    "\n",
    "**Resultado: a1aa**"
   ]
  },
  {
   "cell_type": "code",
   "execution_count": 8,
   "metadata": {},
   "outputs": [
    {
     "data": {
      "text/plain": [
       "'0xa1aa'"
      ]
     },
     "execution_count": 8,
     "metadata": {},
     "output_type": "execute_result"
    }
   ],
   "source": [
    "hex(41386)"
   ]
  },
  {
   "cell_type": "markdown",
   "metadata": {},
   "source": [
    "---\n",
    "8. Convertir de decimal a quinario: `7689`"
   ]
  },
  {
   "cell_type": "markdown",
   "metadata": {},
   "source": [
    "     7689    / 5\n",
    "        4   1537   / 5\n",
    "               2   307  / 5\n",
    "                     2   61  / 5\n",
    "                          1   12  / 5\n",
    "                               2    2\n",
    "Resultado: 221224                               "
   ]
  },
  {
   "cell_type": "markdown",
   "metadata": {},
   "source": [
    "---\n",
    "9. Convertir de decmal a Base-11: `1238`\n",
    "\n",
    "       1238  / 11\n",
    "          6   112  / 11\n",
    "                2    10\n",
    "\n",
    "10 = a\n",
    "\n",
    "Resultado: a26"
   ]
  },
  {
   "cell_type": "markdown",
   "metadata": {},
   "source": [
    "---\n",
    "Usando el método que considere conveniente, realice las siguientes conversiones con punto flotante, utilizando 8 dígitos entre la parte entera y la parte decimal, aparte, marcar el valor real y el error de conversión, detallando el paso a paso del procedimiento:"
   ]
  },
  {
   "cell_type": "markdown",
   "metadata": {},
   "source": [
    "11. Convertir de binario a decimal: `110.10001`"
   ]
  },
  {
   "cell_type": "markdown",
   "metadata": {},
   "source": [
    "$$ N_{10} = 2^2 + 2^1 + 2^{-1} + 2^{-5} $$"
   ]
  },
  {
   "cell_type": "code",
   "execution_count": 1,
   "metadata": {},
   "outputs": [
    {
     "data": {
      "text/plain": [
       "6.53125"
      ]
     },
     "execution_count": 1,
     "metadata": {},
     "output_type": "execute_result"
    }
   ],
   "source": [
    "2**2 + 2**1 + 2**-1 + 2**-5"
   ]
  },
  {
   "cell_type": "markdown",
   "metadata": {},
   "source": [
    "---\n",
    "12. Convertir de binario a octal: `110.11111`"
   ]
  },
  {
   "cell_type": "markdown",
   "metadata": {},
   "source": [
    "Tomamos grupos de tres:\n",
    "$$ \\underbrace{110}_{6} \\, , \\, \\underbrace{111}_{7} \\, \\underbrace{110}_{6} $$\n",
    "Resultado: $6,76$"
   ]
  },
  {
   "cell_type": "markdown",
   "metadata": {},
   "source": [
    "---\n",
    "13. Convertir de binario a hexadecimal: `101.11011`"
   ]
  },
  {
   "cell_type": "markdown",
   "metadata": {},
   "source": [
    "Tomamos grupos de cuatro:\n",
    "$$ \\underbrace{0101}_{5} \\, , \\, \\underbrace{1101}_{D} \\, \\underbrace{1000}_{8} $$\n",
    "Resultado: $5,D8$"
   ]
  },
  {
   "cell_type": "markdown",
   "metadata": {},
   "source": [
    "---\n",
    "14. Convertir de decimal a binario: `6.1`"
   ]
  },
  {
   "cell_type": "markdown",
   "metadata": {},
   "source": [
    "Tabla de potencias base 2:\n",
    "\n",
    "$\\begin{array}{|lcl|}\n",
    "\\hline\n",
    "2^{-5} & = & 0,03125 \\\\\n",
    "2^{-4} & = & 0,0625 \\\\\n",
    "2^{-3} & = & 0,125 \\\\\n",
    "2^{-2} & = & 0,25 \\\\\n",
    "2^{-1} & = & 0,5 \\\\\n",
    "2^0 & = & 1 \\\\\n",
    "2^1 & = & 2 \\\\\n",
    "2^2 & = & 4 \\\\\n",
    "2^3 & = & 8 \\\\\n",
    "\\hline\n",
    "\\end{array}$"
   ]
  },
  {
   "cell_type": "markdown",
   "metadata": {},
   "source": [
    "$$\\begin{array}{ll}\n",
    "6,1 \\\\\n",
    "4 & = 2^2 \\\\\n",
    "\\hline\n",
    "2,1 \\\\\n",
    "2 & = 2^1 \\\\\n",
    "\\hline\n",
    "0,1 \\\\\n",
    "0,0625 & = 2^{-4} \\\\\n",
    "\\hline\n",
    "0,0375 \\\\\n",
    "0,03125 & = 2^{-5} \\\\\n",
    "\\hline\n",
    "0,00625\n",
    "\\end{array}$$"
   ]
  },
  {
   "cell_type": "markdown",
   "metadata": {},
   "source": [
    "**Resultado:**\n",
    "$$ 110,00011 $$\n",
    "- valor real: 6,09375\n",
    "- error: 0,00625"
   ]
  },
  {
   "cell_type": "markdown",
   "metadata": {},
   "source": [
    "---\n",
    "15. Convertir de decimal a octal: `323.136`"
   ]
  },
  {
   "cell_type": "markdown",
   "metadata": {},
   "source": [
    "Primero convertimos a binario:\n",
    "\n",
    "![ej15.png](img/ej15.png)"
   ]
  },
  {
   "cell_type": "markdown",
   "metadata": {},
   "source": [
    "En binario: `101000011.001000101001`\n",
    "\n",
    "Luego convertimos a octal:    \n",
    "Tomamos grupos de tres\n",
    "\n",
    "       101 000 011.001 000 101 001\n",
    "        5   0   3 . 1   0   5   1\n",
    "\n",
    "**Resultado: 503.1051**"
   ]
  },
  {
   "cell_type": "markdown",
   "metadata": {},
   "source": [
    "---\n",
    "16. Convertir de decimal a hexadecimal: `663.4153`"
   ]
  },
  {
   "cell_type": "markdown",
   "metadata": {},
   "source": [
    "Primero convertimos a binario\n",
    "\n",
    "![ej16.png](img/ej16.png)"
   ]
  },
  {
   "cell_type": "markdown",
   "metadata": {},
   "source": [
    "En binario: `1010010111.0110101001010001`\n",
    "\n",
    "Luego convertimos a hexadecimal:      \n",
    "Tomamos grupos de cuatro:\n",
    "\n",
    "    0010 1001 0111 . 0110 1010 0101 0001\n",
    "      2    9    7  .  6    a    5    1 "
   ]
  },
  {
   "cell_type": "markdown",
   "metadata": {},
   "source": [
    "**Resultado: 297.6a51**"
   ]
  },
  {
   "cell_type": "code",
   "execution_count": null,
   "metadata": {},
   "outputs": [],
   "source": []
  }
 ],
 "metadata": {
  "hide_input": false,
  "kernelspec": {
   "display_name": "Python 3",
   "language": "python",
   "name": "python3"
  },
  "language_info": {
   "codemirror_mode": {
    "name": "ipython",
    "version": 3
   },
   "file_extension": ".py",
   "mimetype": "text/x-python",
   "name": "python",
   "nbconvert_exporter": "python",
   "pygments_lexer": "ipython3",
   "version": "3.7.3"
  },
  "toc": {
   "base_numbering": 1,
   "nav_menu": {},
   "number_sections": true,
   "sideBar": true,
   "skip_h1_title": false,
   "title_cell": "Table of Contents",
   "title_sidebar": "Contents",
   "toc_cell": false,
   "toc_position": {},
   "toc_section_display": true,
   "toc_window_display": false
  },
  "varInspector": {
   "cols": {
    "lenName": 16,
    "lenType": 16,
    "lenVar": 40
   },
   "kernels_config": {
    "python": {
     "delete_cmd_postfix": "",
     "delete_cmd_prefix": "del ",
     "library": "var_list.py",
     "varRefreshCmd": "print(var_dic_list())"
    },
    "r": {
     "delete_cmd_postfix": ") ",
     "delete_cmd_prefix": "rm(",
     "library": "var_list.r",
     "varRefreshCmd": "cat(var_dic_list()) "
    }
   },
   "types_to_exclude": [
    "module",
    "function",
    "builtin_function_or_method",
    "instance",
    "_Feature"
   ],
   "window_display": false
  }
 },
 "nbformat": 4,
 "nbformat_minor": 4
}
